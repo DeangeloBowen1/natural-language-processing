{
 "cells": [
  {
   "cell_type": "markdown",
   "id": "6b91d769",
   "metadata": {},
   "source": [
    "## Imports"
   ]
  },
  {
   "cell_type": "code",
   "execution_count": 1,
   "id": "6a4bf7b4",
   "metadata": {},
   "outputs": [],
   "source": [
    "from requests import get\n",
    "from bs4 import BeautifulSoup\n",
    "import numpy as np\n",
    "import pandas as pd"
   ]
  },
  {
   "cell_type": "markdown",
   "id": "e0110d21",
   "metadata": {},
   "source": [
    "## Exercises"
   ]
  },
  {
   "cell_type": "markdown",
   "id": "bea0a316",
   "metadata": {},
   "source": [
    "By the end of this exercise, you should have a file named acquire.py that contains the specified functions. If you wish, you may break your work into separate files for each website (e.g. acquire_codeup_blog.py and acquire_news_articles.py), but the end function should be present in acquire.py (that is, acquire.py should import get_blog_articles from the acquire_codeup_blog module.)\n",
    "\n"
   ]
  },
  {
   "cell_type": "markdown",
   "id": "542b4a14",
   "metadata": {},
   "source": [
    "### 1. Codeup Blog Articles\n",
    "\n",
    "Visit Codeup's Blog and record the urls for at least 5 distinct blog posts. For each post, you should scrape at least the post's title and content.\n",
    "\n",
    "Encapsulate your work in a function named get_blog_articles that will return a list of dictionaries, with each dictionary representing one article. The shape of each dictionary should look like this:"
   ]
  },
  {
   "cell_type": "code",
   "execution_count": 2,
   "id": "d64ba04b",
   "metadata": {},
   "outputs": [
    {
     "data": {
      "text/plain": [
       "{'title': 'the title of the article',\n",
       " 'content': 'the full text content of the article'}"
      ]
     },
     "execution_count": 2,
     "metadata": {},
     "output_type": "execute_result"
    }
   ],
   "source": [
    "{\n",
    "    'title': 'the title of the article',\n",
    "    'content': 'the full text content of the article'\n",
    "}\n"
   ]
  },
  {
   "cell_type": "markdown",
   "id": "78d2a387",
   "metadata": {},
   "source": [
    "Plus any additional properties you think might be helpful."
   ]
  },
  {
   "cell_type": "markdown",
   "id": "49c808ee",
   "metadata": {},
   "source": [
    "---"
   ]
  },
  {
   "cell_type": "markdown",
   "id": "9afa1600",
   "metadata": {},
   "source": [
    "### Set URLS"
   ]
  },
  {
   "cell_type": "code",
   "execution_count": 3,
   "id": "75d9488a",
   "metadata": {},
   "outputs": [],
   "source": [
    "# get urls \n",
    "url1 = \"https://codeup.com/data-science/jobs-after-a-coding-bootcamp-part-1-data-science/\"\n",
    "url2 = \"https://codeup.com/featured/what-jobs-can-you-get-after-a-coding-bootcamp-part-2-cloud-administration/\"\n",
    "url3 = \"https://codeup.com/workshops/san-antonio/in-person-workshop-learn-to-code-javascript-on-7-26/\"\n",
    "url4 = \"https://codeup.com/workshops/in-person-workshop-learn-to-code-python-on-7-19/\"\n",
    "url5 = \"https://codeup.com/tips-for-prospective-students/is-our-cloud-administration-program-right-for-you/\""
   ]
  },
  {
   "cell_type": "markdown",
   "id": "30372381",
   "metadata": {},
   "source": [
    "### URL 1"
   ]
  },
  {
   "cell_type": "code",
   "execution_count": 4,
   "id": "1dddb044",
   "metadata": {},
   "outputs": [],
   "source": [
    "# set headers and response\n",
    "headers = {'User-Agent': 'CodeUp Data Science'}\n",
    "response = get(url1, headers=headers)"
   ]
  },
  {
   "cell_type": "code",
   "execution_count": 5,
   "id": "12f9e4ad",
   "metadata": {},
   "outputs": [
    {
     "name": "stdout",
     "output_type": "stream",
     "text": [
      "<!DOCTYPE html>\n",
      "<html lang=\"en-US\">\n",
      "<head>\n",
      "\t<meta charset=\"UTF-8\" />\n",
      "<meta http-equiv=\"X-UA-Compatible\" content=\"IE=edge\">\n",
      "\t<link rel=\"pingback\" href=\"https://codeup.com/xmlrpc.php\" />\n",
      "\n",
      "\t<script type=\"text/javascript\">\n",
      "\t\tdocument.documentElement.className = 'js';\n",
      "\t</script>\n",
      "\t\n",
      "\t<link rel=\"preconnect\" href=\"https://fonts.gstatic.com\" crossorigin /><script id=\"diviarea-loader\">window.DiviPopupData=wi\n"
     ]
    }
   ],
   "source": [
    "# sanity check\n",
    "print(response.text[:400])"
   ]
  },
  {
   "cell_type": "code",
   "execution_count": 6,
   "id": "344e94b8",
   "metadata": {},
   "outputs": [],
   "source": [
    "# Make a soup variable holding the response content\n",
    "soup = BeautifulSoup(response.content, 'html.parser')"
   ]
  },
  {
   "cell_type": "code",
   "execution_count": 7,
   "id": "8715aedb",
   "metadata": {},
   "outputs": [
    {
     "data": {
      "text/plain": [
       "[<div class=\"et_post_meta_wrapper\">\n",
       " <h1 class=\"entry-title\">What Jobs Can You Get After a Coding Bootcamp? Part 1: Data Science</h1>\n",
       " <p class=\"post-meta\"><span class=\"published\">Jul 7, 2022</span> | <a href=\"https://codeup.com/category/data-science/\" rel=\"category tag\">Data Science</a>, <a href=\"https://codeup.com/category/featured/\" rel=\"category tag\">Featured</a>, <a href=\"https://codeup.com/category/tips-for-prospective-students/\" rel=\"category tag\">Tips for Prospective Students</a></p><img alt=\"Data Science Biog Header\" class=\"\" height=\"675\" sizes=\"(min-width: 0px) and (max-width: 480px) 480px, (min-width: 481px) 1080px, 100vw\" src=\"https://199lj33nqk3p88xz03dvn481-wpengine.netdna-ssl.com/wp-content/uploads/2022/07/CA-Blog-Header-1.png\" srcset=\"https://199lj33nqk3p88xz03dvn481-wpengine.netdna-ssl.com/wp-content/uploads/2022/07/CA-Blog-Header-1.png 1080w, https://199lj33nqk3p88xz03dvn481-wpengine.netdna-ssl.com/wp-content/uploads/2022/07/CA-Blog-Header-1-480x279.png 480w\" width=\"1080\"/>\n",
       " </div>,\n",
       " <div class=\"et_post_meta_wrapper\">\n",
       " </div>]"
      ]
     },
     "execution_count": 7,
     "metadata": {},
     "output_type": "execute_result"
    }
   ],
   "source": [
    "soup.select('div.et_post_meta_wrapper')"
   ]
  },
  {
   "cell_type": "markdown",
   "id": "90b2a93b",
   "metadata": {},
   "source": [
    "### With the post meta wrapper I can view\n",
    "- The entry-title\n",
    "- The span class published\n",
    "- Category Tag\n",
    "- entry-content"
   ]
  },
  {
   "cell_type": "code",
   "execution_count": 8,
   "id": "b5790076",
   "metadata": {},
   "outputs": [
    {
     "data": {
      "text/plain": [
       "'What Jobs Can You Get After a Coding Bootcamp? Part 1: Data Science'"
      ]
     },
     "execution_count": 8,
     "metadata": {},
     "output_type": "execute_result"
    }
   ],
   "source": [
    "# get the title of the article\n",
    "title = soup.find('h1', class_ = 'entry-title').text\n",
    "title"
   ]
  },
  {
   "cell_type": "code",
   "execution_count": 9,
   "id": "f4467031",
   "metadata": {},
   "outputs": [
    {
     "data": {
      "text/plain": [
       "'Jul 7, 2022'"
      ]
     },
     "execution_count": 9,
     "metadata": {},
     "output_type": "execute_result"
    }
   ],
   "source": [
    "# get the date published\n",
    "published = soup.find('span', class_='published').text\n",
    "published"
   ]
  },
  {
   "cell_type": "code",
   "execution_count": 10,
   "id": "4a315043",
   "metadata": {},
   "outputs": [
    {
     "data": {
      "text/plain": [
       "'Data Science'"
      ]
     },
     "execution_count": 10,
     "metadata": {},
     "output_type": "execute_result"
    }
   ],
   "source": [
    "# get article category\n",
    "category = soup.find('a', rel='category tag').text\n",
    "category"
   ]
  },
  {
   "cell_type": "code",
   "execution_count": 11,
   "id": "d6e4059f",
   "metadata": {},
   "outputs": [
    {
     "data": {
      "text/plain": [
       "'If you are interested in embarking on a career in tech, you’re probably wondering what your new job title could be, and even what your salary might look like.*\\xa0In this mini-series, we will take each of our programs here at Codeup: Data Science, Web Development, and Cloud Administration, and outline respectively potential job titles, as well as entry-level salaries.\\xa0Today we will be diving into our Data Science program, with four potential job titles you could take on! Program Overview\\xa0 During this 20-week program, you will have the opportunity to take your career to new heights with data science being one of the most needed jobs in tech. You’ll gather data, then clean it, explore it for trends, and apply machine learning models to make predictions. Upon completing this program, you will know how to turn insights into actionable recommendations. You’ll be a huge asset to any company, having all the technical skills to become a data scientist with projects upon projects of experience under your belt.\\xa0 1. Data Scientist\\xa0 Essentially, a Data Scientist is responsible for analyzing how a business performs to ensure the business stays competitive and relevant. They review the data for deeper meaning and examine it for patterns in an effort to create solutions to business problems. According to Zip Recruiter, the average entry-level salary for a Data Scientist in Texas is $60,677. 2. Data Analyst A Data Analyst finds ways to solve a business’ problems through raw data analysis. They are then responsible for sharing this information with management and stakeholders. According to Indeed, the average entry-level salary for a Data Analyst is $60,332. 3. Machine Learning Engineer\\xa0 A Machine Learning (ML) Engineer is usually on a Data Science team. They are responsible for artificial intelligence, and its functions as well as making predictions on other machine learning capabilities. They will create ML prototypes and models, then test and retrain where necessary. According to Salary.com, the average entry-level salary for a ML Engineer is $115,795. 4. Business Intelligence Analyst\\xa0 A Business Intelligence Analyst, also known as a BI Analyst is responsible for understanding computer programming languages. Their primary goal is to give accurate insight to decision-makers regarding the market, productivity, competition, and customer responses. According to Payscale, the average entry-level salary for a BI Analyst is $58,627. We understand changing careers can be scary. If you chose Codeup, we will make sure you are plenty prepared to not only take on one of these roles but succeed in it.\\xa0 This program gives you more than a textbook and a bank of pre-recorded lectures. You get hands-on instruction from industry experts, along with the power to change your life.\\xa0 If you’re ready, apply today and let’s turn your dreams into reality and get your seat secured in our next Data Science cohort.\\xa0 \\xa0 *Disclaimer: All information presented in this article is by no means guaranteed by completing a Codeup program. Salaries and duties vary based on factors such as company, location, and experience. These salaries are estimates based on San Antonio, TX data, and these duties are general and may not be exact for every position.'"
      ]
     },
     "execution_count": 11,
     "metadata": {},
     "output_type": "execute_result"
    }
   ],
   "source": [
    "#get article content\n",
    "content = soup.find('div', class_='entry-content').text.strip().replace('\\n', ' ')\n",
    "content"
   ]
  },
  {
   "cell_type": "code",
   "execution_count": 12,
   "id": "ee415740",
   "metadata": {},
   "outputs": [],
   "source": [
    "def parse_blog_articles(url):\n",
    "    \"\"\"\n",
    "    This function used together with the get_blog_articles() function, \n",
    "    parses the html from the website and displays it in python\n",
    "    \"\"\"\n",
    "    url = url\n",
    "    \n",
    "    # establish header\n",
    "    headers = {'User-Agent':'CodeUp Data Science'}\n",
    "    resposne = get(url, headers=headers)\n",
    "    \n",
    "    # create soup variable containing response content\n",
    "    soup = BeautifulSoup(response.content, 'html.parser')\n",
    "    \n",
    "    # create a dictionary that holds each url and its content\n",
    "    output = {}\n",
    "    output['title'] = soup.find('h1', class_ = 'entry-title').text\n",
    "    output['published'] = soup.find('span', class_='published').text\n",
    "    output['category'] = soup.find('a', rel='category tag').text\n",
    "    output['content'] = soup.find('div', class_='entry-content').text.strip().replace('\\n', ' ')\n",
    "    \n",
    "    return output"
   ]
  },
  {
   "cell_type": "code",
   "execution_count": 13,
   "id": "bf44e0fc",
   "metadata": {},
   "outputs": [],
   "source": [
    "def get_blog_articles(url):\n",
    "    \"\"\"\n",
    "    This function takes in a list of url from CodeUp blod articles.\n",
    "    Used with pare_blog_articles, it looks for title, published date, category, and content\n",
    "    then displays them.\n",
    "    \"\"\"\n",
    "    output = []\n",
    "    \n",
    "    for urls in url:\n",
    "        output.append(parse_blog_articles(urls))\n",
    "        \n",
    "    return output"
   ]
  },
  {
   "cell_type": "code",
   "execution_count": 14,
   "id": "d2ef4816",
   "metadata": {},
   "outputs": [],
   "source": [
    "# create a list of urls\n",
    "url_list = [url1, url2, url3, url4, url5]"
   ]
  },
  {
   "cell_type": "code",
   "execution_count": 15,
   "id": "aec71507",
   "metadata": {
    "scrolled": false
   },
   "outputs": [
    {
     "data": {
      "text/plain": [
       "[{'title': 'What Jobs Can You Get After a Coding Bootcamp? Part 1: Data Science',\n",
       "  'published': 'Jul 7, 2022',\n",
       "  'category': 'Data Science',\n",
       "  'content': 'If you are interested in embarking on a career in tech, you’re probably wondering what your new job title could be, and even what your salary might look like.*\\xa0In this mini-series, we will take each of our programs here at Codeup: Data Science, Web Development, and Cloud Administration, and outline respectively potential job titles, as well as entry-level salaries.\\xa0Today we will be diving into our Data Science program, with four potential job titles you could take on! Program Overview\\xa0 During this 20-week program, you will have the opportunity to take your career to new heights with data science being one of the most needed jobs in tech. You’ll gather data, then clean it, explore it for trends, and apply machine learning models to make predictions. Upon completing this program, you will know how to turn insights into actionable recommendations. You’ll be a huge asset to any company, having all the technical skills to become a data scientist with projects upon projects of experience under your belt.\\xa0 1. Data Scientist\\xa0 Essentially, a Data Scientist is responsible for analyzing how a business performs to ensure the business stays competitive and relevant. They review the data for deeper meaning and examine it for patterns in an effort to create solutions to business problems. According to Zip Recruiter, the average entry-level salary for a Data Scientist in Texas is $60,677. 2. Data Analyst A Data Analyst finds ways to solve a business’ problems through raw data analysis. They are then responsible for sharing this information with management and stakeholders. According to Indeed, the average entry-level salary for a Data Analyst is $60,332. 3. Machine Learning Engineer\\xa0 A Machine Learning (ML) Engineer is usually on a Data Science team. They are responsible for artificial intelligence, and its functions as well as making predictions on other machine learning capabilities. They will create ML prototypes and models, then test and retrain where necessary. According to Salary.com, the average entry-level salary for a ML Engineer is $115,795. 4. Business Intelligence Analyst\\xa0 A Business Intelligence Analyst, also known as a BI Analyst is responsible for understanding computer programming languages. Their primary goal is to give accurate insight to decision-makers regarding the market, productivity, competition, and customer responses. According to Payscale, the average entry-level salary for a BI Analyst is $58,627. We understand changing careers can be scary. If you chose Codeup, we will make sure you are plenty prepared to not only take on one of these roles but succeed in it.\\xa0 This program gives you more than a textbook and a bank of pre-recorded lectures. You get hands-on instruction from industry experts, along with the power to change your life.\\xa0 If you’re ready, apply today and let’s turn your dreams into reality and get your seat secured in our next Data Science cohort.\\xa0 \\xa0 *Disclaimer: All information presented in this article is by no means guaranteed by completing a Codeup program. Salaries and duties vary based on factors such as company, location, and experience. These salaries are estimates based on San Antonio, TX data, and these duties are general and may not be exact for every position.'},\n",
       " {'title': 'What Jobs Can You Get After a Coding Bootcamp? Part 1: Data Science',\n",
       "  'published': 'Jul 7, 2022',\n",
       "  'category': 'Data Science',\n",
       "  'content': 'If you are interested in embarking on a career in tech, you’re probably wondering what your new job title could be, and even what your salary might look like.*\\xa0In this mini-series, we will take each of our programs here at Codeup: Data Science, Web Development, and Cloud Administration, and outline respectively potential job titles, as well as entry-level salaries.\\xa0Today we will be diving into our Data Science program, with four potential job titles you could take on! Program Overview\\xa0 During this 20-week program, you will have the opportunity to take your career to new heights with data science being one of the most needed jobs in tech. You’ll gather data, then clean it, explore it for trends, and apply machine learning models to make predictions. Upon completing this program, you will know how to turn insights into actionable recommendations. You’ll be a huge asset to any company, having all the technical skills to become a data scientist with projects upon projects of experience under your belt.\\xa0 1. Data Scientist\\xa0 Essentially, a Data Scientist is responsible for analyzing how a business performs to ensure the business stays competitive and relevant. They review the data for deeper meaning and examine it for patterns in an effort to create solutions to business problems. According to Zip Recruiter, the average entry-level salary for a Data Scientist in Texas is $60,677. 2. Data Analyst A Data Analyst finds ways to solve a business’ problems through raw data analysis. They are then responsible for sharing this information with management and stakeholders. According to Indeed, the average entry-level salary for a Data Analyst is $60,332. 3. Machine Learning Engineer\\xa0 A Machine Learning (ML) Engineer is usually on a Data Science team. They are responsible for artificial intelligence, and its functions as well as making predictions on other machine learning capabilities. They will create ML prototypes and models, then test and retrain where necessary. According to Salary.com, the average entry-level salary for a ML Engineer is $115,795. 4. Business Intelligence Analyst\\xa0 A Business Intelligence Analyst, also known as a BI Analyst is responsible for understanding computer programming languages. Their primary goal is to give accurate insight to decision-makers regarding the market, productivity, competition, and customer responses. According to Payscale, the average entry-level salary for a BI Analyst is $58,627. We understand changing careers can be scary. If you chose Codeup, we will make sure you are plenty prepared to not only take on one of these roles but succeed in it.\\xa0 This program gives you more than a textbook and a bank of pre-recorded lectures. You get hands-on instruction from industry experts, along with the power to change your life.\\xa0 If you’re ready, apply today and let’s turn your dreams into reality and get your seat secured in our next Data Science cohort.\\xa0 \\xa0 *Disclaimer: All information presented in this article is by no means guaranteed by completing a Codeup program. Salaries and duties vary based on factors such as company, location, and experience. These salaries are estimates based on San Antonio, TX data, and these duties are general and may not be exact for every position.'},\n",
       " {'title': 'What Jobs Can You Get After a Coding Bootcamp? Part 1: Data Science',\n",
       "  'published': 'Jul 7, 2022',\n",
       "  'category': 'Data Science',\n",
       "  'content': 'If you are interested in embarking on a career in tech, you’re probably wondering what your new job title could be, and even what your salary might look like.*\\xa0In this mini-series, we will take each of our programs here at Codeup: Data Science, Web Development, and Cloud Administration, and outline respectively potential job titles, as well as entry-level salaries.\\xa0Today we will be diving into our Data Science program, with four potential job titles you could take on! Program Overview\\xa0 During this 20-week program, you will have the opportunity to take your career to new heights with data science being one of the most needed jobs in tech. You’ll gather data, then clean it, explore it for trends, and apply machine learning models to make predictions. Upon completing this program, you will know how to turn insights into actionable recommendations. You’ll be a huge asset to any company, having all the technical skills to become a data scientist with projects upon projects of experience under your belt.\\xa0 1. Data Scientist\\xa0 Essentially, a Data Scientist is responsible for analyzing how a business performs to ensure the business stays competitive and relevant. They review the data for deeper meaning and examine it for patterns in an effort to create solutions to business problems. According to Zip Recruiter, the average entry-level salary for a Data Scientist in Texas is $60,677. 2. Data Analyst A Data Analyst finds ways to solve a business’ problems through raw data analysis. They are then responsible for sharing this information with management and stakeholders. According to Indeed, the average entry-level salary for a Data Analyst is $60,332. 3. Machine Learning Engineer\\xa0 A Machine Learning (ML) Engineer is usually on a Data Science team. They are responsible for artificial intelligence, and its functions as well as making predictions on other machine learning capabilities. They will create ML prototypes and models, then test and retrain where necessary. According to Salary.com, the average entry-level salary for a ML Engineer is $115,795. 4. Business Intelligence Analyst\\xa0 A Business Intelligence Analyst, also known as a BI Analyst is responsible for understanding computer programming languages. Their primary goal is to give accurate insight to decision-makers regarding the market, productivity, competition, and customer responses. According to Payscale, the average entry-level salary for a BI Analyst is $58,627. We understand changing careers can be scary. If you chose Codeup, we will make sure you are plenty prepared to not only take on one of these roles but succeed in it.\\xa0 This program gives you more than a textbook and a bank of pre-recorded lectures. You get hands-on instruction from industry experts, along with the power to change your life.\\xa0 If you’re ready, apply today and let’s turn your dreams into reality and get your seat secured in our next Data Science cohort.\\xa0 \\xa0 *Disclaimer: All information presented in this article is by no means guaranteed by completing a Codeup program. Salaries and duties vary based on factors such as company, location, and experience. These salaries are estimates based on San Antonio, TX data, and these duties are general and may not be exact for every position.'},\n",
       " {'title': 'What Jobs Can You Get After a Coding Bootcamp? Part 1: Data Science',\n",
       "  'published': 'Jul 7, 2022',\n",
       "  'category': 'Data Science',\n",
       "  'content': 'If you are interested in embarking on a career in tech, you’re probably wondering what your new job title could be, and even what your salary might look like.*\\xa0In this mini-series, we will take each of our programs here at Codeup: Data Science, Web Development, and Cloud Administration, and outline respectively potential job titles, as well as entry-level salaries.\\xa0Today we will be diving into our Data Science program, with four potential job titles you could take on! Program Overview\\xa0 During this 20-week program, you will have the opportunity to take your career to new heights with data science being one of the most needed jobs in tech. You’ll gather data, then clean it, explore it for trends, and apply machine learning models to make predictions. Upon completing this program, you will know how to turn insights into actionable recommendations. You’ll be a huge asset to any company, having all the technical skills to become a data scientist with projects upon projects of experience under your belt.\\xa0 1. Data Scientist\\xa0 Essentially, a Data Scientist is responsible for analyzing how a business performs to ensure the business stays competitive and relevant. They review the data for deeper meaning and examine it for patterns in an effort to create solutions to business problems. According to Zip Recruiter, the average entry-level salary for a Data Scientist in Texas is $60,677. 2. Data Analyst A Data Analyst finds ways to solve a business’ problems through raw data analysis. They are then responsible for sharing this information with management and stakeholders. According to Indeed, the average entry-level salary for a Data Analyst is $60,332. 3. Machine Learning Engineer\\xa0 A Machine Learning (ML) Engineer is usually on a Data Science team. They are responsible for artificial intelligence, and its functions as well as making predictions on other machine learning capabilities. They will create ML prototypes and models, then test and retrain where necessary. According to Salary.com, the average entry-level salary for a ML Engineer is $115,795. 4. Business Intelligence Analyst\\xa0 A Business Intelligence Analyst, also known as a BI Analyst is responsible for understanding computer programming languages. Their primary goal is to give accurate insight to decision-makers regarding the market, productivity, competition, and customer responses. According to Payscale, the average entry-level salary for a BI Analyst is $58,627. We understand changing careers can be scary. If you chose Codeup, we will make sure you are plenty prepared to not only take on one of these roles but succeed in it.\\xa0 This program gives you more than a textbook and a bank of pre-recorded lectures. You get hands-on instruction from industry experts, along with the power to change your life.\\xa0 If you’re ready, apply today and let’s turn your dreams into reality and get your seat secured in our next Data Science cohort.\\xa0 \\xa0 *Disclaimer: All information presented in this article is by no means guaranteed by completing a Codeup program. Salaries and duties vary based on factors such as company, location, and experience. These salaries are estimates based on San Antonio, TX data, and these duties are general and may not be exact for every position.'},\n",
       " {'title': 'What Jobs Can You Get After a Coding Bootcamp? Part 1: Data Science',\n",
       "  'published': 'Jul 7, 2022',\n",
       "  'category': 'Data Science',\n",
       "  'content': 'If you are interested in embarking on a career in tech, you’re probably wondering what your new job title could be, and even what your salary might look like.*\\xa0In this mini-series, we will take each of our programs here at Codeup: Data Science, Web Development, and Cloud Administration, and outline respectively potential job titles, as well as entry-level salaries.\\xa0Today we will be diving into our Data Science program, with four potential job titles you could take on! Program Overview\\xa0 During this 20-week program, you will have the opportunity to take your career to new heights with data science being one of the most needed jobs in tech. You’ll gather data, then clean it, explore it for trends, and apply machine learning models to make predictions. Upon completing this program, you will know how to turn insights into actionable recommendations. You’ll be a huge asset to any company, having all the technical skills to become a data scientist with projects upon projects of experience under your belt.\\xa0 1. Data Scientist\\xa0 Essentially, a Data Scientist is responsible for analyzing how a business performs to ensure the business stays competitive and relevant. They review the data for deeper meaning and examine it for patterns in an effort to create solutions to business problems. According to Zip Recruiter, the average entry-level salary for a Data Scientist in Texas is $60,677. 2. Data Analyst A Data Analyst finds ways to solve a business’ problems through raw data analysis. They are then responsible for sharing this information with management and stakeholders. According to Indeed, the average entry-level salary for a Data Analyst is $60,332. 3. Machine Learning Engineer\\xa0 A Machine Learning (ML) Engineer is usually on a Data Science team. They are responsible for artificial intelligence, and its functions as well as making predictions on other machine learning capabilities. They will create ML prototypes and models, then test and retrain where necessary. According to Salary.com, the average entry-level salary for a ML Engineer is $115,795. 4. Business Intelligence Analyst\\xa0 A Business Intelligence Analyst, also known as a BI Analyst is responsible for understanding computer programming languages. Their primary goal is to give accurate insight to decision-makers regarding the market, productivity, competition, and customer responses. According to Payscale, the average entry-level salary for a BI Analyst is $58,627. We understand changing careers can be scary. If you chose Codeup, we will make sure you are plenty prepared to not only take on one of these roles but succeed in it.\\xa0 This program gives you more than a textbook and a bank of pre-recorded lectures. You get hands-on instruction from industry experts, along with the power to change your life.\\xa0 If you’re ready, apply today and let’s turn your dreams into reality and get your seat secured in our next Data Science cohort.\\xa0 \\xa0 *Disclaimer: All information presented in this article is by no means guaranteed by completing a Codeup program. Salaries and duties vary based on factors such as company, location, and experience. These salaries are estimates based on San Antonio, TX data, and these duties are general and may not be exact for every position.'}]"
      ]
     },
     "execution_count": 15,
     "metadata": {},
     "output_type": "execute_result"
    }
   ],
   "source": [
    "get_blog_articles(url_list)"
   ]
  },
  {
   "cell_type": "markdown",
   "id": "2a9f9b3f",
   "metadata": {},
   "source": [
    "---"
   ]
  },
  {
   "cell_type": "markdown",
   "id": "a3fa34d7",
   "metadata": {},
   "source": [
    "### 2) News Articles\n",
    "\n",
    "We will now be scraping text data from inshorts, a website that provides a brief overview of many different topics.\n",
    "\n",
    "Write a function that scrapes the news articles for the following topics:\n",
    "\n",
    "Business\n",
    "Sports\n",
    "Technology\n",
    "Entertainment The end product of this should be a function named get_news_articles that returns a list of dictionaries, where each dictionary has this shape:"
   ]
  },
  {
   "cell_type": "code",
   "execution_count": 16,
   "id": "711eb143",
   "metadata": {},
   "outputs": [],
   "source": [
    "#Define individual news category urls\n",
    "\n",
    "url1 = 'https://inshorts.com/en/read/business'\n",
    "url2 = 'https://inshorts.com/en/read/sports'\n",
    "url3 = 'https://inshorts.com/en/read/technology'\n",
    "url4 = 'https://inshorts.com/en/read/entertainment'\n",
    "\n",
    "#make a list of all these urls\n",
    "urls = [url1, url2, url3, url4]"
   ]
  },
  {
   "cell_type": "markdown",
   "id": "4bbd236e",
   "metadata": {},
   "source": [
    "### URL 1"
   ]
  },
  {
   "cell_type": "code",
   "execution_count": 17,
   "id": "0b35a3f1",
   "metadata": {},
   "outputs": [
    {
     "data": {
      "text/plain": [
       "<Response [200]>"
      ]
     },
     "execution_count": 17,
     "metadata": {},
     "output_type": "execute_result"
    }
   ],
   "source": [
    "# set headers\n",
    "headers = {'User-Agent': 'Codeup Data Science'}\n",
    "response = get(url1, headers=headers)\n",
    "response"
   ]
  },
  {
   "cell_type": "code",
   "execution_count": 18,
   "id": "9b9e24f0",
   "metadata": {},
   "outputs": [],
   "source": [
    "soup = BeautifulSoup(response.content, 'html.parser')"
   ]
  },
  {
   "cell_type": "code",
   "execution_count": 19,
   "id": "d5d73abf",
   "metadata": {},
   "outputs": [],
   "source": [
    "#Find the title of the first article on the page\n",
    "cards = soup.find('div', class_ = 'card-stack')\n",
    "\n",
    "articles = cards.find_all('div', class_ = 'news-card')\n",
    "article = articles[0]"
   ]
  },
  {
   "cell_type": "code",
   "execution_count": 20,
   "id": "d9ff4dc4",
   "metadata": {},
   "outputs": [
    {
     "data": {
      "text/plain": [
       "'Rupee hits record low of 79.97 against US dollar'"
      ]
     },
     "execution_count": 20,
     "metadata": {},
     "output_type": "execute_result"
    }
   ],
   "source": [
    "#Find the title of the first article on the page\n",
    "title = article.find('span', itemprop = 'headline').text\n",
    "title"
   ]
  },
  {
   "cell_type": "code",
   "execution_count": 21,
   "id": "8ff93672",
   "metadata": {},
   "outputs": [
    {
     "data": {
      "text/plain": [
       "'Ridham Gambhir'"
      ]
     },
     "execution_count": 21,
     "metadata": {},
     "output_type": "execute_result"
    }
   ],
   "source": [
    "#Find the author of the first article\n",
    "author = article.find('span', class_ = 'author').text\n",
    "author"
   ]
  },
  {
   "cell_type": "code",
   "execution_count": 22,
   "id": "03775967",
   "metadata": {},
   "outputs": [
    {
     "data": {
      "text/plain": [
       "'18 Jul 2022'"
      ]
     },
     "execution_count": 22,
     "metadata": {},
     "output_type": "execute_result"
    }
   ],
   "source": [
    "#Find the publication date\n",
    "published = article.find('span', clas = 'date').text.split(',')[0]\n",
    "published"
   ]
  },
  {
   "cell_type": "code",
   "execution_count": 23,
   "id": "979c64e8",
   "metadata": {},
   "outputs": [
    {
     "data": {
      "text/plain": [
       "\"The rupee hit a record low of 79.97 against the US dollar on Monday after opening at 79.76. The Finance Ministry, while speaking about the matter said that global factors such as the Russia-Ukraine war, soaring crude oil prices and tightening of global financial conditions are the major reasons for the rupee's weakening.\""
      ]
     },
     "execution_count": 23,
     "metadata": {},
     "output_type": "execute_result"
    }
   ],
   "source": [
    "content = article.find('div', itemprop = 'articleBody').text\n",
    "content"
   ]
  },
  {
   "cell_type": "code",
   "execution_count": 24,
   "id": "2e2bb49a",
   "metadata": {},
   "outputs": [],
   "source": [
    "## Create function that creates a dictionary out of a single article on an inshorts.com page\n",
    "\n",
    "def parse_news_article(article, category):\n",
    "    output = {}\n",
    "\n",
    "    output['category'] = category\n",
    "    output['title'] = article.find('span', itemprop = 'headline').text.strip()\n",
    "    output['author'] = article.find('span', class_ = 'author').text\n",
    "    output['date'] = article.find('span', clas = 'date').text.split(',')[0]\n",
    "    output['content'] = article.find('div', itemprop = 'articleBody').text\n",
    "\n",
    "    return output"
   ]
  },
  {
   "cell_type": "code",
   "execution_count": 25,
   "id": "89b1e813",
   "metadata": {},
   "outputs": [],
   "source": [
    "def parse_news_page(category):\n",
    "    url = 'https://inshorts.com/en/read/' + category\n",
    "    response = get(url)\n",
    "    soup = BeautifulSoup(response.text)\n",
    "\n",
    "    cards = soup.select('.news-card')\n",
    "    articles = []\n",
    "\n",
    "    for card in cards:\n",
    "        articles.append(parse_news_article(card, category))\n",
    "\n",
    "    return articles"
   ]
  },
  {
   "cell_type": "code",
   "execution_count": 26,
   "id": "ab646daf",
   "metadata": {
    "scrolled": false
   },
   "outputs": [
    {
     "data": {
      "text/plain": [
       "[{'category': 'business',\n",
       "  'title': 'Rupee hits record low of 79.97 against US dollar',\n",
       "  'author': 'Ridham Gambhir',\n",
       "  'date': '18 Jul 2022',\n",
       "  'content': \"The rupee hit a record low of 79.97 against the US dollar on Monday after opening at 79.76. The Finance Ministry, while speaking about the matter said that global factors such as the Russia-Ukraine war, soaring crude oil prices and tightening of global financial conditions are the major reasons for the rupee's weakening.\"},\n",
       " {'category': 'business',\n",
       "  'title': 'Rupee closes at an all-time low of 79.98 against US dollar',\n",
       "  'author': 'Ridham Gambhir',\n",
       "  'date': '18 Jul 2022',\n",
       "  'content': 'The rupee on Monday hit a fresh record low as it ended closer to the 80-mark to close at 79.98 against the US dollar. This was the seventh consecutive session when the rupee weakened. So far this year, the currency has weakened 7.05% against the US dollar. Meanwhile, BSE Sensex closed 760 points higher at 54,521 on Monday.'},\n",
       " {'category': 'business',\n",
       "  'title': 'BCCI had ₹40 cr in bank when I joined & ₹47,680 cr when I was banned: Lalit',\n",
       "  'author': 'Ridham Gambhir',\n",
       "  'date': '17 Jul 2022',\n",
       "  'content': 'In an Instagram post, Lalit Modi asserted that he neither took any government favour nor any bribes from anyone. He added, “I was born with a diamond spoon...When I joined BCCI, it had ₹40 crore in the bank. I joined on my birthday on November 29, 2005. Guess what was in the bank when I was banned - ₹47,680 crore.\"'},\n",
       " {'category': 'business',\n",
       "  'title': 'A fighter to the core: Mahindra praises PV Sindhu after she wins Singapore Open',\n",
       "  'author': 'Ridham Gambhir',\n",
       "  'date': '17 Jul 2022',\n",
       "  'content': 'Businessman Anand Mahindra took to Twitter to praise PV Sindhu after she won the Singapore Open. Sharing a tweet by Doordarshan Sports which had an old image of Sindhu, Mahindra wrote, \"That’s not just her facial expression, but the expression of her soul. A fighter to the core...Never getting demoralised by a slump. Teaching us how to rise again.\"'},\n",
       " {'category': 'business',\n",
       "  'title': 'RBI is of the view that cryptocurrencies should be prohibited: FM Sitharaman',\n",
       "  'author': 'Hiral Goyal',\n",
       "  'date': '18 Jul 2022',\n",
       "  'content': 'The Reserve Bank of India (RBI) has recommended to the government that it should frame regulations for cryptocurrencies and is of the view that they should be prohibited, Finance Minister Nirmala Sitharaman said. Citing the borderless nature of cryptocurrencies, she further said that any legislation for regulation or for banning can be effective only after significant international collaboration.'},\n",
       " {'category': 'business',\n",
       "  'title': 'It is not a sacrifice at all: Bill Gates on plan to give away all his wealth',\n",
       "  'author': 'Hiral Goyal',\n",
       "  'date': '17 Jul 2022',\n",
       "  'content': 'Microsoft Co-founder Bill Gates, who plans to give away all his wealth, said, \"My giving this money is not a sacrifice at all.\" He added, \"I feel privileged to be involved in tackling these great challenges...and I believe I have an obligation to return my resources to society.\" Gates is currently the world\\'s fourth richest person with $113 billion wealth.'},\n",
       " {'category': 'business',\n",
       "  'title': \"11 SEBI officials' email accounts hacked & used to send 34 emails, FIR filed\",\n",
       "  'author': 'Hiral Goyal',\n",
       "  'date': '17 Jul 2022',\n",
       "  'content': 'Mumbai police has filed an FIR after the Securities and Exchange Board of India (SEBI) approached them, alleging the email accounts of its 11 officials had been hacked and used to send as many as 34 emails by unknown persons. \"It was a small incident. CERT-IN is fully in the loop. No sensitive data was lost,\" the markets regulator said.'},\n",
       " {'category': 'business',\n",
       "  'title': \"How a startup should operate: Mahindra on old video of Man City's 44-pass goal\",\n",
       "  'author': 'Hiral Goyal',\n",
       "  'date': '17 Jul 2022',\n",
       "  'content': 'Businessman Anand Mahindra took to Twitter to share a 2018 video of Manchester City\\'s 44-pass goal against Manchester United and wrote, \"A lesson in teamwork...But also an analogy for how a startup...needs to operate.\" He further said that success comes from going \"back and forth, trying new angles of approach and going for the kill when strategic path is clear\".'},\n",
       " {'category': 'business',\n",
       "  'title': \"Ex-NSE CEO Chitra's remand extended by 4 days in money laundering case\",\n",
       "  'author': 'Shreyasi Banerjee',\n",
       "  'date': '18 Jul 2022',\n",
       "  'content': \"A Delhi court has extended the four-day remand of former CEO and MD of National Stock Exchange (NSE), Chitra Ramkrishna, in a money laundering case. The case involves alleged phone tapping and snooping of NSE's employees. Earlier, the Enforcement Directorate and CBI registered two more cases against Ramkrishna, former NSE head Ravi Narain and former Mumbai Police Commissioner Sanjay Pandey.\"},\n",
       " {'category': 'business',\n",
       "  'title': 'Which household items will get costlier from tomorrow due to changes in GST rules?',\n",
       "  'author': 'Hiral Goyal',\n",
       "  'date': '17 Jul 2022',\n",
       "  'content': \"Pre-packaged and labelled food items like curd, lassi and buttermilk will get costlier from July 18 as they'll attract 5% GST. Jaggery, khandsari sugar, puffed rice will no longer be exempt from GST. Kitchen utensils like knives, spoons, forks, and stationery items like pencil sharpeners, maps, globes and electrical appliances such as LED lights and fixtures will also get costlier.\"},\n",
       " {'category': 'business',\n",
       "  'title': \"Lalit shares pics with PM Modi & others amid trolling, says 'was born with diamond spoon'\",\n",
       "  'author': 'Arshiya Chopra',\n",
       "  'date': '17 Jul 2022',\n",
       "  'content': 'While criticising people trolling him over his relationship with Sushmita Sen, Lalit Modi shared old pictures with PM Narendra Modi, Amit Shah, UK Prince Charles, Dalai Lama, Nelson Mandela among other personalities. He said he doesn\\'t care about people calling him a fugitive, adding, \"I was born with a \\'diamond spoon\\'. I didn\\'t take a bribe or ever needed to.\"'},\n",
       " {'category': 'business',\n",
       "  'title': \"Sunak praises father-in-law Narayana Murthy, says 'His firm employs thousands in UK'\",\n",
       "  'author': 'Ridham Gambhir',\n",
       "  'date': '18 Jul 2022',\n",
       "  'content': 'One of the frontrunners for the UK PM\\'s post, Rishi Sunak, said he is proud of what his parents-in-law built. Speaking about Infosys Founder NR Narayana Murthy, Sunak said, \"My father-in-law came from...nothing and just had a dream and a couple of hundred pounds [from my] mother-in-law\\'s savings…He...built one of the world\\'s largest...companies that...employs thousands of people...in the UK.\"'},\n",
       " {'category': 'business',\n",
       "  'title': 'Saudi Arabia doubled Russian oil imports in Q2, freeing up own oil for exports: Report',\n",
       "  'author': 'Ridham Gambhir',\n",
       "  'date': '18 Jul 2022',\n",
       "  'content': \"The world's largest oil exporter, Saudi Arabia, more than doubled its Russian oil imports in the second quarter, enabling it to free up its own crude for export, as per data accessed by Reuters. It imported 6,47,000 tonnes of Russian oil from April to June. Russia has been selling fuel at discounted prices amid Western sanctions over the Ukraine war.\"},\n",
       " {'category': 'business',\n",
       "  'title': 'New Zealand inflation surges to 7.3%, highest since 1990',\n",
       "  'author': 'Ridham Gambhir',\n",
       "  'date': '18 Jul 2022',\n",
       "  'content': 'Inflation in New Zealand has surged at its fastest pace in over three decades. As per official data, the Consumer Price Index increased 7.3% in the second quarter, up from 6.9% in the first quarter and the fastest since the June quarter of 1990 when prices rose 7.6%. Economists had predicted that inflation would come in at 7% or 7.1%.'},\n",
       " {'category': 'business',\n",
       "  'title': \"Bill & Melinda Gates Foundation's half resources have come from Warren: Bill Gates\",\n",
       "  'author': 'Ridham Gambhir',\n",
       "  'date': '18 Jul 2022',\n",
       "  'content': 'In a blog, Microsoft Co-founder Bill Gates said that though the foundation is named Bill & Melinda Gates Foundation, \"half of its resources to date have come from Warren Buffett\\'s gifts\". Gates wrote, \"Since 2006, Warren has gifted the foundation $35.7 billion, including his most recent gift of $3.1 billion in June.\"'},\n",
       " {'category': 'business',\n",
       "  'title': 'No GST on pre-packed, labelled food items weighing over 25 kg: Finance Ministry',\n",
       "  'author': 'Ridham Gambhir',\n",
       "  'date': '18 Jul 2022',\n",
       "  'content': 'The Finance Ministry has clarified that single packages of pre-packed and labelled food items like cereals and pulses weighing over 25 kg are exempt from 5% GST. It added that if a retail shopkeeper supplies an item in a loose quantity that was bought in a 25-kg pack from a manufacturer, its sale to the consumer will not attract GST.'},\n",
       " {'category': 'business',\n",
       "  'title': \"Plea to stop SpiceJet's operations amid recent mishaps dismissed by Delhi HC\",\n",
       "  'author': 'Hiral Goyal',\n",
       "  'date': '18 Jul 2022',\n",
       "  'content': \"The Delhi High Court dismissed a plea seeking to stop the operations of SpiceJet over recent technical snags. The plea cited several incidents involving SpiceJet flights and claimed that passengers' lives are at risk due to their improper management. The DGCA has taken note of incidents involving SpiceJet flights and is free to proceed on its own, the court noted.\"},\n",
       " {'category': 'business',\n",
       "  'title': 'Fortune cooking oil prices cut by up to ₹30 per litre by Adani Wilmar',\n",
       "  'author': 'Sakshita Khosla',\n",
       "  'date': '18 Jul 2022',\n",
       "  'content': \"Prices of one of the most popular Indian edible oil brands Fortune have been cut by up to ₹30 per litre amid a fall in global prices. This is the second oil price reduction announced by the brand's maker Adani Wilmar in two months. Prices of soyabean and sunflower oils have been cut to ₹165 and ₹195 per litre, respectively.\"},\n",
       " {'category': 'business',\n",
       "  'title': 'SEBI clears appointment of BSE chief Ashish Chauhan as new NSE CEO & MD',\n",
       "  'author': 'Ridham Gambhir',\n",
       "  'date': '18 Jul 2022',\n",
       "  'content': 'The Securities and Exchange Board of India has approved the appointment of Ashish Kumar Chauhan as the new MD and CEO of the NSE. Chauhan is currently the MD and CEO of the BSE and will replace Vikram Limaye whose term ended as NSE chief on July 16. The appointment is subject to Chauhan accepting the offer. '},\n",
       " {'category': 'business',\n",
       "  'title': 'What goods & services get cheaper as new GST rates come into effect today?',\n",
       "  'author': 'Ridham Gambhir',\n",
       "  'date': '18 Jul 2022',\n",
       "  'content': 'Electric vehicles, whether or not fitted with a battery pack, will be eligible for the concessional GST rate of 5% from July 18. GST on renting trucks, and goods carriages (where the cost of fuel is included) will be cut to 12% from 18%. GST on ostomy appliances and orthopaedic equipment like splints will be reduced from 12% to 5%.'},\n",
       " {'category': 'business',\n",
       "  'title': 'HUL, ITC, United Spirits added 130 execs to crorepati club last fiscal: Report',\n",
       "  'author': 'Hiral Goyal',\n",
       "  'date': '18 Jul 2022',\n",
       "  'content': 'Hindustan Unilever (HUL), ITC and United Spirits together added over 130 executives to the club of those earning more than ₹1 crore annually during the last fiscal, The Economic Times reported. United Spirits witnessed a massive jump of 113%, whereas HUL and ITC saw 33% and 44% increase in the number of eight-figure salary earners, as per their annual reports.'},\n",
       " {'category': 'business',\n",
       "  'title': 'Pakistani rupee falls to all-time low of 212 against US dollar',\n",
       "  'author': 'Anmol Sharma',\n",
       "  'date': '18 Jul 2022',\n",
       "  'content': 'The Pakistani rupee has dropped to a record low against the US dollar with the exchange rate sliding to PKR 212, local media reported on Monday. This fall in the value came after traders resorted to panic buying on reports that some commercial banks had run out of foreign currency, reports stated.'},\n",
       " {'category': 'business',\n",
       "  'title': 'Scindia chairs meet with heads of airline companies on safety issues',\n",
       "  'author': 'Subhangi Singh',\n",
       "  'date': '18 Jul 2022',\n",
       "  'content': 'Civil Aviation Minister Jyotiraditya Scindia chaired a one-on-one meeting with heads of airline companies on Monday to review flight safety norms. The Aviation Ministry also issued instructions to each airline to take steps at all levels to enhance security surveillance. These steps come after a few Indian airlines reported back-to-back incidents of emergency landings due to technical issues.'},\n",
       " {'category': 'business',\n",
       "  'title': \"Hyd authority's one-time scheme offers 90% waiver on property tax arrears\",\n",
       "  'author': 'Subhangi Singh',\n",
       "  'date': '18 Jul 2022',\n",
       "  'content': 'The Telangana government has announced a one-time scheme (OTS) for clearing pending property tax arrears within Greater Hyderabad Municipal Corporation (GHMC) limits and all other urban local bodies. The scheme will allow a waiver of 90% on interest payment, provided that the principal amount plus 10% of interest on accumulated arrears is paid in one go for financial year 2021-22.'},\n",
       " {'category': 'business',\n",
       "  'title': '6 of top 10 most valued firms lost ₹1.68 lakh crore in m-cap last week',\n",
       "  'author': 'Ridham Gambhir',\n",
       "  'date': '17 Jul 2022',\n",
       "  'content': 'Among the 10 most valued firms, six companies suffered a combined loss of ₹1.68 lakh crore in their market valuation last week. While TCS took the biggest hit as its market valuation declined by ₹99,270.07 crore to reach ₹10,95,355.32 crore, it was followed by Infosys, whose valuation dropped by ₹35,133.64 crore to ₹6,01,900.14 crore.'}]"
      ]
     },
     "execution_count": 26,
     "metadata": {},
     "output_type": "execute_result"
    }
   ],
   "source": [
    "parse_news_page('business')"
   ]
  },
  {
   "cell_type": "code",
   "execution_count": 27,
   "id": "39cb8ba4",
   "metadata": {},
   "outputs": [],
   "source": [
    "# cache the data, and turn it into a dataframe (function)\n",
    "def get_news_articles(use_cache=True):\n",
    "    if os.path.exists('news_articles.json') and use_cache:\n",
    "        return pd.read_json('news_articles.json')\n",
    "\n",
    "    categories = ['business', 'sports', 'technology', 'entertainment']\n",
    "\n",
    "    articles = []\n",
    "\n",
    "    for category in categories:\n",
    "        print(f'Getting {category} articles')\n",
    "        articles.extend(parse_news_page(category))\n",
    "\n",
    "    df = pd.DataFrame(articles)\n",
    "    df.to_json('news_articles.json', orient='records')\n",
    "    return df"
   ]
  }
 ],
 "metadata": {
  "kernelspec": {
   "display_name": "Python 3 (ipykernel)",
   "language": "python",
   "name": "python3"
  },
  "language_info": {
   "codemirror_mode": {
    "name": "ipython",
    "version": 3
   },
   "file_extension": ".py",
   "mimetype": "text/x-python",
   "name": "python",
   "nbconvert_exporter": "python",
   "pygments_lexer": "ipython3",
   "version": "3.9.7"
  }
 },
 "nbformat": 4,
 "nbformat_minor": 5
}
